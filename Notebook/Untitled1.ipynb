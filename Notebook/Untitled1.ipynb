{
 "cells": [
  {
   "cell_type": "code",
   "execution_count": 1,
   "id": "7233acee",
   "metadata": {},
   "outputs": [],
   "source": [
    "password = 'wwww123'"
   ]
  },
  {
   "cell_type": "code",
   "execution_count": 3,
   "id": "a96e540a",
   "metadata": {},
   "outputs": [
    {
     "name": "stdout",
     "output_type": "stream",
     "text": [
      "weak\n"
     ]
    }
   ],
   "source": [
    "k = password.lower().count(\"andrei\")\n",
    "if k == 0:\n",
    "    uq = set(password)\n",
    "    lower_flag = False\n",
    "    upper_flag = False\n",
    "    digit_flag = False\n",
    "    for char in uq:\n",
    "        if char.islower():\n",
    "            lower_flag = True\n",
    "        if char.isupper():\n",
    "            upper_flag = True\n",
    "        if char.isdigit():\n",
    "            digit_flag = True\n",
    "    if len(uq) >= 4 and lower_flag and upper_flag and digit_flag:\n",
    "        print('strong')\n",
    "    else:\n",
    "        print('weak')\n",
    "else:\n",
    "    print('weak')"
   ]
  },
  {
   "cell_type": "code",
   "execution_count": null,
   "id": "75e8b356",
   "metadata": {},
   "outputs": [],
   "source": []
  },
  {
   "cell_type": "code",
   "execution_count": null,
   "id": "60fa5eaf",
   "metadata": {},
   "outputs": [],
   "source": []
  }
 ],
 "metadata": {
  "kernelspec": {
   "display_name": "Python 3",
   "language": "python",
   "name": "python3"
  },
  "language_info": {
   "codemirror_mode": {
    "name": "ipython",
    "version": 3
   },
   "file_extension": ".py",
   "mimetype": "text/x-python",
   "name": "python",
   "nbconvert_exporter": "python",
   "pygments_lexer": "ipython3",
   "version": "3.8.8"
  }
 },
 "nbformat": 4,
 "nbformat_minor": 5
}

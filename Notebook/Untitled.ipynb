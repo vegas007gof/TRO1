{
 "cells": [
  {
   "cell_type": "markdown",
   "id": "558c3be8",
   "metadata": {},
   "source": [
    "ticket_number = list(map(int, (input(\"Введите число\"))))\n"
   ]
  },
  {
   "cell_type": "markdown",
   "id": "df02eb95",
   "metadata": {},
   "source": [
    "if sum(ticket_number[:3]) == sum(ticket_number[3:]):\n",
    "    print('счастливый')\n",
    "else:\n",
    "    print('обычный')\n",
    "  "
   ]
  },
  {
   "cell_type": "code",
   "execution_count": 2,
   "id": "bd80c952",
   "metadata": {},
   "outputs": [
    {
     "name": "stdout",
     "output_type": "stream",
     "text": [
      "Введите число444444\n"
     ]
    }
   ],
   "source": [
    "ticket_number = list(map(int, (input(\"Введите число\"))))\n"
   ]
  },
  {
   "cell_type": "code",
   "execution_count": 4,
   "id": "875401c3",
   "metadata": {},
   "outputs": [
    {
     "name": "stdout",
     "output_type": "stream",
     "text": [
      "счастливый\n"
     ]
    }
   ],
   "source": [
    "if sum(ticket_number[:3]) == sum(ticket_number[3:]): \n",
    "    print('счастливый') \n",
    "else: \n",
    "        print('обычный')"
   ]
  },
  {
   "cell_type": "code",
   "execution_count": 5,
   "id": "afff73e8",
   "metadata": {},
   "outputs": [],
   "source": [
    "password = 'WSD123'\n"
   ]
  },
  {
   "cell_type": "code",
   "execution_count": null,
   "id": "c20ce39f",
   "metadata": {},
   "outputs": [],
   "source": []
  }
 ],
 "metadata": {
  "kernelspec": {
   "display_name": "Python 3",
   "language": "python",
   "name": "python3"
  },
  "language_info": {
   "codemirror_mode": {
    "name": "ipython",
    "version": 3
   },
   "file_extension": ".py",
   "mimetype": "text/x-python",
   "name": "python",
   "nbconvert_exporter": "python",
   "pygments_lexer": "ipython3",
   "version": "3.8.8"
  }
 },
 "nbformat": 4,
 "nbformat_minor": 5
}

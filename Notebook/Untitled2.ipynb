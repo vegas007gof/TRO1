{
 "cells": [
  {
   "cell_type": "code",
   "execution_count": 1,
   "id": "47a65191",
   "metadata": {},
   "outputs": [
    {
     "name": "stdout",
     "output_type": "stream",
     "text": [
      "3\n"
     ]
    }
   ],
   "source": [
    "f1 = f2 = 1\n",
    "amount = int(input())"
   ]
  },
  {
   "cell_type": "code",
   "execution_count": 2,
   "id": "c1730f0a",
   "metadata": {},
   "outputs": [
    {
     "name": "stdout",
     "output_type": "stream",
     "text": [
      "1 1 2 "
     ]
    }
   ],
   "source": [
    "print(f1, f2, end=' ')\n",
    "for i in range(2, amount):\n",
    "    f1, f2 = f2, f1 + f2\n",
    "    print(f2, end=' ')"
   ]
  },
  {
   "cell_type": "code",
   "execution_count": null,
   "id": "97a18d75",
   "metadata": {},
   "outputs": [],
   "source": []
  }
 ],
 "metadata": {
  "kernelspec": {
   "display_name": "Python 3",
   "language": "python",
   "name": "python3"
  },
  "language_info": {
   "codemirror_mode": {
    "name": "ipython",
    "version": 3
   },
   "file_extension": ".py",
   "mimetype": "text/x-python",
   "name": "python",
   "nbconvert_exporter": "python",
   "pygments_lexer": "ipython3",
   "version": "3.8.8"
  }
 },
 "nbformat": 4,
 "nbformat_minor": 5
}
